{
  "nbformat": 4,
  "nbformat_minor": 0,
  "metadata": {
    "colab": {
      "provenance": []
    },
    "kernelspec": {
      "name": "python3",
      "display_name": "Python 3"
    },
    "language_info": {
      "name": "python"
    }
  },
  "cells": [
    {
      "cell_type": "code",
      "execution_count": 38,
      "metadata": {
        "id": "eLu7jTntysob",
        "colab": {
          "base_uri": "https://localhost:8080/"
        },
        "outputId": "0509b3d3-8e61-4cba-e85a-6defd5941def"
      },
      "outputs": [
        {
          "output_type": "stream",
          "name": "stdout",
          "text": [
            "n= 20\n",
            "False\n"
          ]
        }
      ],
      "source": [
        "\n",
        "n = input('n= ')\n",
        "n = int(n)\n",
        "\n",
        "def sqr_sum(n):\n",
        "    s = 0\n",
        "    while n > 0:\n",
        "        s =(n % 10)**2 + s\n",
        "        n //= 10\n",
        "    return s\n",
        "\n",
        "def is_happy(n):\n",
        "    temp = set()\n",
        "    while n !=1 and n not in temp:\n",
        "        temp.add(n)\n",
        "        n = sqr_sum(n)\n",
        "    return n == True\n",
        "\n",
        "print(is_happy(n))\n",
        "\n"
      ]
    }
  ]
}